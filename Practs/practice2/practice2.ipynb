{
 "cells": [
  {
   "cell_type": "code",
   "execution_count": 97,
   "metadata": {},
   "outputs": [],
   "source": [
    "import numpy as np\n",
    "import pandas as pd\n",
    "import matplotlib.pyplot as plt\n",
    "from sklearn.model_selection import train_test_split\n",
    "from sklearn.linear_model import LogisticRegression\n",
    "from sklearn import metrics\n",
    "import warnings\n",
    "warnings.filterwarnings(\"ignore\")\n",
    "from sklearn.ensemble import StackingClassifier\n",
    "from sklearn.ensemble import BaggingClassifier\n",
    "from sklearn.ensemble import AdaBoostClassifier\n",
    "from sklearn.tree import DecisionTreeClassifier\n",
    "from sklearn.svm import SVC\n",
    "from xgboost import XGBClassifier\n",
    "from sklearn.ensemble import RandomForestClassifier\n",
    "from sklearn.metrics import classification_report"
   ]
  },
  {
   "cell_type": "code",
   "execution_count": 96,
   "metadata": {},
   "outputs": [
    {
     "data": {
      "text/html": [
       "<div>\n",
       "<style scoped>\n",
       "    .dataframe tbody tr th:only-of-type {\n",
       "        vertical-align: middle;\n",
       "    }\n",
       "\n",
       "    .dataframe tbody tr th {\n",
       "        vertical-align: top;\n",
       "    }\n",
       "\n",
       "    .dataframe thead th {\n",
       "        text-align: right;\n",
       "    }\n",
       "</style>\n",
       "<table border=\"1\" class=\"dataframe\">\n",
       "  <thead>\n",
       "    <tr style=\"text-align: right;\">\n",
       "      <th></th>\n",
       "      <th>Feature 1</th>\n",
       "      <th>Feature 2</th>\n",
       "      <th>Feature 3</th>\n",
       "      <th>yes/no</th>\n",
       "    </tr>\n",
       "  </thead>\n",
       "  <tbody>\n",
       "    <tr>\n",
       "      <th>0</th>\n",
       "      <td>181340.927589</td>\n",
       "      <td>55973.050436</td>\n",
       "      <td>109155.616761</td>\n",
       "      <td>0</td>\n",
       "    </tr>\n",
       "    <tr>\n",
       "      <th>1</th>\n",
       "      <td>225171.661977</td>\n",
       "      <td>190855.062897</td>\n",
       "      <td>-70639.405440</td>\n",
       "      <td>0</td>\n",
       "    </tr>\n",
       "    <tr>\n",
       "      <th>2</th>\n",
       "      <td>106522.177251</td>\n",
       "      <td>5278.396770</td>\n",
       "      <td>9703.226362</td>\n",
       "      <td>1</td>\n",
       "    </tr>\n",
       "    <tr>\n",
       "      <th>3</th>\n",
       "      <td>56932.803700</td>\n",
       "      <td>32431.341018</td>\n",
       "      <td>152866.366487</td>\n",
       "      <td>1</td>\n",
       "    </tr>\n",
       "    <tr>\n",
       "      <th>4</th>\n",
       "      <td>89144.826658</td>\n",
       "      <td>30375.245841</td>\n",
       "      <td>59990.464491</td>\n",
       "      <td>0</td>\n",
       "    </tr>\n",
       "    <tr>\n",
       "      <th>...</th>\n",
       "      <td>...</td>\n",
       "      <td>...</td>\n",
       "      <td>...</td>\n",
       "      <td>...</td>\n",
       "    </tr>\n",
       "    <tr>\n",
       "      <th>95</th>\n",
       "      <td>75155.316421</td>\n",
       "      <td>-76887.644163</td>\n",
       "      <td>130518.263882</td>\n",
       "      <td>0</td>\n",
       "    </tr>\n",
       "    <tr>\n",
       "      <th>96</th>\n",
       "      <td>82598.395866</td>\n",
       "      <td>138855.403575</td>\n",
       "      <td>-38542.180395</td>\n",
       "      <td>1</td>\n",
       "    </tr>\n",
       "    <tr>\n",
       "      <th>97</th>\n",
       "      <td>-25024.531702</td>\n",
       "      <td>230964.718934</td>\n",
       "      <td>-78244.594409</td>\n",
       "      <td>1</td>\n",
       "    </tr>\n",
       "    <tr>\n",
       "      <th>98</th>\n",
       "      <td>6694.639463</td>\n",
       "      <td>123692.917159</td>\n",
       "      <td>28173.781307</td>\n",
       "      <td>1</td>\n",
       "    </tr>\n",
       "    <tr>\n",
       "      <th>99</th>\n",
       "      <td>72775.519289</td>\n",
       "      <td>-17525.955321</td>\n",
       "      <td>53206.167155</td>\n",
       "      <td>1</td>\n",
       "    </tr>\n",
       "  </tbody>\n",
       "</table>\n",
       "<p>100 rows × 4 columns</p>\n",
       "</div>"
      ],
      "text/plain": [
       "        Feature 1      Feature 2      Feature 3  yes/no\n",
       "0   181340.927589   55973.050436  109155.616761       0\n",
       "1   225171.661977  190855.062897  -70639.405440       0\n",
       "2   106522.177251    5278.396770    9703.226362       1\n",
       "3    56932.803700   32431.341018  152866.366487       1\n",
       "4    89144.826658   30375.245841   59990.464491       0\n",
       "..            ...            ...            ...     ...\n",
       "95   75155.316421  -76887.644163  130518.263882       0\n",
       "96   82598.395866  138855.403575  -38542.180395       1\n",
       "97  -25024.531702  230964.718934  -78244.594409       1\n",
       "98    6694.639463  123692.917159   28173.781307       1\n",
       "99   72775.519289  -17525.955321   53206.167155       1\n",
       "\n",
       "[100 rows x 4 columns]"
      ]
     },
     "execution_count": 96,
     "metadata": {},
     "output_type": "execute_result"
    }
   ],
   "source": [
    "# * Генерація випадкових ознак\n",
    "np.random.seed(0) \n",
    "n_samples = 100 \n",
    "n_features = 3\n",
    "columns = ['Feature 1', 'Feature 2', 'Feature 3', 'yes/no']\n",
    "\n",
    "data = np.random.normal(19191, 91919, size =(n_samples, n_features)) \n",
    "df = pd.DataFrame(data, columns=columns[0:3]) \n",
    "cl = np.random.randint(2, size=(n_samples))\n",
    "df['yes/no'] = cl\n",
    "df.to_csv('випадкові_дані.csv', index=False)   \n",
    "df"
   ]
  },
  {
   "cell_type": "code",
   "execution_count": 95,
   "metadata": {},
   "outputs": [
    {
     "name": "stdout",
     "output_type": "stream",
     "text": [
      "<class 'pandas.core.frame.DataFrame'>\n",
      "RangeIndex: 100 entries, 0 to 99\n",
      "Data columns (total 4 columns):\n",
      " #   Column     Non-Null Count  Dtype  \n",
      "---  ------     --------------  -----  \n",
      " 0   Feature 1  100 non-null    float64\n",
      " 1   Feature 2  100 non-null    float64\n",
      " 2   Feature 3  100 non-null    float64\n",
      " 3   yes/no     100 non-null    int64  \n",
      "dtypes: float64(3), int64(1)\n",
      "memory usage: 3.2 KB\n"
     ]
    }
   ],
   "source": [
    "data = pd.read_csv('випадкові_дані.csv')\n",
    "data.info()"
   ]
  },
  {
   "cell_type": "code",
   "execution_count": 94,
   "metadata": {},
   "outputs": [
    {
     "data": {
      "text/html": [
       "<div>\n",
       "<style scoped>\n",
       "    .dataframe tbody tr th:only-of-type {\n",
       "        vertical-align: middle;\n",
       "    }\n",
       "\n",
       "    .dataframe tbody tr th {\n",
       "        vertical-align: top;\n",
       "    }\n",
       "\n",
       "    .dataframe thead th {\n",
       "        text-align: right;\n",
       "    }\n",
       "</style>\n",
       "<table border=\"1\" class=\"dataframe\">\n",
       "  <thead>\n",
       "    <tr style=\"text-align: right;\">\n",
       "      <th></th>\n",
       "      <th>Feature 1</th>\n",
       "      <th>Feature 2</th>\n",
       "      <th>Feature 3</th>\n",
       "      <th>yes/no</th>\n",
       "    </tr>\n",
       "  </thead>\n",
       "  <tbody>\n",
       "    <tr>\n",
       "      <th>count</th>\n",
       "      <td>100.000000</td>\n",
       "      <td>100.000000</td>\n",
       "      <td>100.000000</td>\n",
       "      <td>100.000000</td>\n",
       "    </tr>\n",
       "    <tr>\n",
       "      <th>mean</th>\n",
       "      <td>28430.744787</td>\n",
       "      <td>28957.606099</td>\n",
       "      <td>7776.122194</td>\n",
       "      <td>0.500000</td>\n",
       "    </tr>\n",
       "    <tr>\n",
       "      <th>std</th>\n",
       "      <td>94787.158300</td>\n",
       "      <td>90721.651601</td>\n",
       "      <td>90163.437392</td>\n",
       "      <td>0.502519</td>\n",
       "    </tr>\n",
       "    <tr>\n",
       "      <th>min</th>\n",
       "      <td>-185181.994349</td>\n",
       "      <td>-235662.953578</td>\n",
       "      <td>-215477.270882</td>\n",
       "      <td>0.000000</td>\n",
       "    </tr>\n",
       "    <tr>\n",
       "      <th>25%</th>\n",
       "      <td>-25307.016366</td>\n",
       "      <td>-39530.875518</td>\n",
       "      <td>-55557.602160</td>\n",
       "      <td>0.000000</td>\n",
       "    </tr>\n",
       "    <tr>\n",
       "      <th>50%</th>\n",
       "      <td>24485.874041</td>\n",
       "      <td>31403.293429</td>\n",
       "      <td>6206.746438</td>\n",
       "      <td>0.500000</td>\n",
       "    </tr>\n",
       "    <tr>\n",
       "      <th>75%</th>\n",
       "      <td>84574.941566</td>\n",
       "      <td>90349.398836</td>\n",
       "      <td>70959.298473</td>\n",
       "      <td>1.000000</td>\n",
       "    </tr>\n",
       "    <tr>\n",
       "      <th>max</th>\n",
       "      <td>238247.284561</td>\n",
       "      <td>230964.718934</td>\n",
       "      <td>226864.419439</td>\n",
       "      <td>1.000000</td>\n",
       "    </tr>\n",
       "  </tbody>\n",
       "</table>\n",
       "</div>"
      ],
      "text/plain": [
       "           Feature 1      Feature 2      Feature 3      yes/no\n",
       "count     100.000000     100.000000     100.000000  100.000000\n",
       "mean    28430.744787   28957.606099    7776.122194    0.500000\n",
       "std     94787.158300   90721.651601   90163.437392    0.502519\n",
       "min   -185181.994349 -235662.953578 -215477.270882    0.000000\n",
       "25%    -25307.016366  -39530.875518  -55557.602160    0.000000\n",
       "50%     24485.874041   31403.293429    6206.746438    0.500000\n",
       "75%     84574.941566   90349.398836   70959.298473    1.000000\n",
       "max    238247.284561  230964.718934  226864.419439    1.000000"
      ]
     },
     "execution_count": 94,
     "metadata": {},
     "output_type": "execute_result"
    }
   ],
   "source": [
    "data.describe()"
   ]
  },
  {
   "cell_type": "code",
   "execution_count": 93,
   "metadata": {},
   "outputs": [
    {
     "name": "stdout",
     "output_type": "stream",
     "text": [
      "Accuracy: 0.5666666666666667\n",
      "Precision:  0.47058823529411764\n",
      "Recall:  0.6666666666666666\n",
      "F1:  [0.58064516 0.55172414]\n"
     ]
    }
   ],
   "source": [
    "X = data.drop('yes/no', axis=1)\n",
    "y = data['yes/no']\n",
    "\n",
    "X_train, X_test, y_train, y_test = train_test_split(X, y, test_size=0.3, random_state=42)\n",
    "\n",
    "lg_regression = LogisticRegression()\n",
    "lg_regression.fit(X_train, y_train)\n",
    "y_pred = lg_regression.predict(X_test)\n",
    "\n",
    "# * Загальна точність прикладів\n",
    "print(\"Accuracy:\", metrics.accuracy_score(y_test, y_pred)) \n",
    "# * Позитивні приклади\n",
    "print(\"Precision: \", metrics.precision_score(y_test, y_pred)) \n",
    "# * Ефективність виявлявлення позитивних прикладів\n",
    "print(\"Recall: \", metrics.recall_score(y_test, y_pred)) \n",
    " # * Середня гармонічна точності та повноти\n",
    "print(\"F1: \", metrics.f1_score(y_test, y_pred, average = None))"
   ]
  },
  {
   "cell_type": "code",
   "execution_count": 91,
   "metadata": {},
   "outputs": [
    {
     "name": "stdout",
     "output_type": "stream",
     "text": [
      "              precision    recall  f1-score   support\n",
      "\n",
      "           0       0.69      0.50      0.58        18\n",
      "           1       0.47      0.67      0.55        12\n",
      "\n",
      "    accuracy                           0.57        30\n",
      "   macro avg       0.58      0.58      0.57        30\n",
      "weighted avg       0.60      0.57      0.57        30\n",
      "\n"
     ]
    }
   ],
   "source": [
    "class_report = classification_report(y_test, y_pred)\n",
    "print(class_report)"
   ]
  },
  {
   "cell_type": "code",
   "execution_count": 89,
   "metadata": {},
   "outputs": [
    {
     "data": {
      "image/png": "[encoded data removed]",
      "text/plain": [
       "<Figure size 640x480 with 1 Axes>"
      ]
     },
     "metadata": {},
     "output_type": "display_data"
    }
   ],
   "source": [
    "# * Метрика для оцінки якості моделі класифікації\n",
    "y_pred_proba = log_regression.predict_proba(X_test)[::,1]\n",
    "fpr, tpr, _ = metrics.roc_curve(y_test,  y_pred_proba)\n",
    "auc = metrics.roc_auc_score(y_test, y_pred_proba) \n",
    "\n",
    "plt.plot(fpr, tpr, label=\"auc=\" + str(auc))\n",
    "plt.legend(loc=4)\n",
    "plt.show()"
   ]
  },
  {
   "cell_type": "code",
   "execution_count": 90,
   "metadata": {},
   "outputs": [
    {
     "data": {
      "image/png": "[encoded data removed]",
      "text/plain": [
       "<Figure size 640x480 with 1 Axes>"
      ]
     },
     "metadata": {},
     "output_type": "display_data"
    }
   ],
   "source": [
    "a_category = X_test[y_test == 1]\n",
    "r_category = X_test[y_test == 0]\n",
    "\n",
    "# * for \"approved\" credits\n",
    "plt.scatter(a_category.iloc[:, 0], a_category.iloc[:, 1], label='Approved credits', c='r')\n",
    "\n",
    "# * for \"rejected\" credits\n",
    "plt.scatter(r_category.iloc[:, 0], r_category.iloc[:, 1], label='Rejected credits', c='g')\n",
    "\n",
    "plt.title('Credit approval')\n",
    "plt.legend(loc='best')\n",
    "plt.show()"
   ]
  }
 ],
 "metadata": {
  "kernelspec": {
   "display_name": "Python 3",
   "language": "python",
   "name": "python3"
  },
  "language_info": {
   "codemirror_mode": {
    "name": "ipython",
    "version": 3
   },
   "file_extension": ".py",
   "mimetype": "text/x-python",
   "name": "python",
   "nbconvert_exporter": "python",
   "pygments_lexer": "ipython3",
   "version": "3.9.6"
  },
  "orig_nbformat": 4
 },
 "nbformat": 4,
 "nbformat_minor": 2
}
