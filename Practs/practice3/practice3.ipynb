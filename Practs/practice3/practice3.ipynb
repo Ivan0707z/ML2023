{
 "cells": [
  {
   "cell_type": "markdown",
   "metadata": {},
   "source": [
    "1. Генерація даних\n",
    "\n",
    "Згенеруйте 1000 спостережень для ознаки \"Площа житла\" (площа квартири в квадратних метрах) в діапазоні від 50 до 200 квадратних метрів.\n",
    "\n",
    "Згенеруйте 1000 спостережень для ознаки \"Кількість спалень\" в діапазоні від 1 до 5 спалень.\n",
    "\n",
    "Згенеруйте 1000 спостережень для ознаки \"Відстань до центру міста\" в діапазоні від 1 до 20 км.\n",
    "\n",
    "Згенеруйте цільову змінну - ціну житла (в тисячах доларів) на основі ознак \"Площа житла\", \"Кількість спалень\" та \"Відстань до центру міста\". Модель ціни може бути, наприклад, такою: ціна = 10 * площа + 5 * спальні - 2 * відстань + похибка, де похибка - це випадковий шум."
   ]
  },
  {
   "cell_type": "code",
   "execution_count": 2,
   "metadata": {},
   "outputs": [
    {
     "data": {
      "text/html": [
       "<div>\n",
       "<style scoped>\n",
       "    .dataframe tbody tr th:only-of-type {\n",
       "        vertical-align: middle;\n",
       "    }\n",
       "\n",
       "    .dataframe tbody tr th {\n",
       "        vertical-align: top;\n",
       "    }\n",
       "\n",
       "    .dataframe thead th {\n",
       "        text-align: right;\n",
       "    }\n",
       "</style>\n",
       "<table border=\"1\" class=\"dataframe\">\n",
       "  <thead>\n",
       "    <tr style=\"text-align: right;\">\n",
       "      <th></th>\n",
       "      <th>Площа житла</th>\n",
       "      <th>К-сть спалень</th>\n",
       "      <th>Відстань до центру</th>\n",
       "      <th>Ціна житла</th>\n",
       "    </tr>\n",
       "  </thead>\n",
       "  <tbody>\n",
       "    <tr>\n",
       "      <th>0</th>\n",
       "      <td>97</td>\n",
       "      <td>4</td>\n",
       "      <td>2</td>\n",
       "      <td>1004</td>\n",
       "    </tr>\n",
       "    <tr>\n",
       "      <th>1</th>\n",
       "      <td>167</td>\n",
       "      <td>1</td>\n",
       "      <td>13</td>\n",
       "      <td>1684</td>\n",
       "    </tr>\n",
       "    <tr>\n",
       "      <th>2</th>\n",
       "      <td>117</td>\n",
       "      <td>1</td>\n",
       "      <td>10</td>\n",
       "      <td>1176</td>\n",
       "    </tr>\n",
       "    <tr>\n",
       "      <th>3</th>\n",
       "      <td>153</td>\n",
       "      <td>2</td>\n",
       "      <td>12</td>\n",
       "      <td>1544</td>\n",
       "    </tr>\n",
       "    <tr>\n",
       "      <th>4</th>\n",
       "      <td>59</td>\n",
       "      <td>1</td>\n",
       "      <td>4</td>\n",
       "      <td>620</td>\n",
       "    </tr>\n",
       "    <tr>\n",
       "      <th>...</th>\n",
       "      <td>...</td>\n",
       "      <td>...</td>\n",
       "      <td>...</td>\n",
       "      <td>...</td>\n",
       "    </tr>\n",
       "    <tr>\n",
       "      <th>995</th>\n",
       "      <td>169</td>\n",
       "      <td>3</td>\n",
       "      <td>11</td>\n",
       "      <td>1712</td>\n",
       "    </tr>\n",
       "    <tr>\n",
       "      <th>996</th>\n",
       "      <td>77</td>\n",
       "      <td>3</td>\n",
       "      <td>12</td>\n",
       "      <td>800</td>\n",
       "    </tr>\n",
       "    <tr>\n",
       "      <th>997</th>\n",
       "      <td>101</td>\n",
       "      <td>4</td>\n",
       "      <td>16</td>\n",
       "      <td>1018</td>\n",
       "    </tr>\n",
       "    <tr>\n",
       "      <th>998</th>\n",
       "      <td>128</td>\n",
       "      <td>2</td>\n",
       "      <td>7</td>\n",
       "      <td>1309</td>\n",
       "    </tr>\n",
       "    <tr>\n",
       "      <th>999</th>\n",
       "      <td>136</td>\n",
       "      <td>2</td>\n",
       "      <td>4</td>\n",
       "      <td>1372</td>\n",
       "    </tr>\n",
       "  </tbody>\n",
       "</table>\n",
       "<p>1000 rows × 4 columns</p>\n",
       "</div>"
      ],
      "text/plain": [
       "     Площа житла  К-сть спалень  Відстань до центру  Ціна житла\n",
       "0             97              4                   2        1004\n",
       "1            167              1                  13        1684\n",
       "2            117              1                  10        1176\n",
       "3            153              2                  12        1544\n",
       "4             59              1                   4         620\n",
       "..           ...            ...                 ...         ...\n",
       "995          169              3                  11        1712\n",
       "996           77              3                  12         800\n",
       "997          101              4                  16        1018\n",
       "998          128              2                   7        1309\n",
       "999          136              2                   4        1372\n",
       "\n",
       "[1000 rows x 4 columns]"
      ]
     },
     "execution_count": 2,
     "metadata": {},
     "output_type": "execute_result"
    }
   ],
   "source": [
    "import pandas as pd\n",
    "import numpy as np\n",
    "\n",
    "np.random.seed(0)     \n",
    "\n",
    "area_count = np.random.randint(50, 200, size=1000)\n",
    "rooms_count = np.random.randint(1, 5, size=1000)\n",
    "distance_count = np.random.randint(1, 20, size=1000)\n",
    "prices_count = [10 * a + 5 * b - 2 * d + np.random.randint(0, 40) for a, b, d in zip(area_count, rooms_count, distance_count)]\n",
    "\n",
    "\n",
    "data = {\n",
    "    'Площа житла': area_count,\n",
    "    'К-сть спалень': rooms_count,\n",
    "    'Відстань до центру': distance_count,\n",
    "    'Ціна житла': prices_count\n",
    "}\n",
    "\n",
    "df = pd.DataFrame(data)      \n",
    "\n",
    "df.to_csv('дані_нерухомості.csv', index=False)\n",
    "df"
   ]
  },
  {
   "cell_type": "markdown",
   "metadata": {},
   "source": [
    "2. Розділення даних\n",
    "\n",
    "Розділіти дані на навчальний та тестовий набори в співвідношенні 80% - 20%."
   ]
  },
  {
   "cell_type": "code",
   "execution_count": 3,
   "metadata": {},
   "outputs": [
    {
     "name": "stdout",
     "output_type": "stream",
     "text": [
      "   Площа житла  К-сть спалень  Відстань до центру  Ціна житла\n",
      "0           97              4                   2        1004\n",
      "1          167              1                  13        1684\n",
      "2          117              1                  10        1176\n",
      "3          153              2                  12        1544\n",
      "4           59              1                   4         620 \n",
      "\n",
      "       Площа житла  К-сть спалень  Відстань до центру  Ціна житла\n",
      "count  1000.000000    1000.000000         1000.000000  1000.00000\n",
      "mean    127.241000       2.506000           10.210000  1283.90900\n",
      "std      43.189423       1.131036            5.335388   431.41831\n",
      "min      50.000000       1.000000            1.000000   489.00000\n",
      "25%      89.000000       1.000000            6.000000   899.00000\n",
      "50%     131.000000       2.500000           10.000000  1327.00000\n",
      "75%     165.000000       4.000000           15.000000  1660.00000\n",
      "max     199.000000       4.000000           19.000000  2026.00000 \n",
      "\n",
      "<class 'pandas.core.frame.DataFrame'>\n",
      "RangeIndex: 1000 entries, 0 to 999\n",
      "Data columns (total 4 columns):\n",
      " #   Column              Non-Null Count  Dtype\n",
      "---  ------              --------------  -----\n",
      " 0   Площа житла         1000 non-null   int64\n",
      " 1   К-сть спалень       1000 non-null   int64\n",
      " 2   Відстань до центру  1000 non-null   int64\n",
      " 3   Ціна житла          1000 non-null   int64\n",
      "dtypes: int64(4)\n",
      "memory usage: 31.4 KB\n",
      "None \n",
      "\n"
     ]
    }
   ],
   "source": [
    "data = pd.read_csv('дані_нерухомості.csv')\n",
    "\n",
    "print(data.head(), \"\\n\") # * Перші декілька рядків даних\n",
    "\n",
    "print(data.describe(), \"\\n\") # * Основні статистичні показники даних\n",
    "\n",
    "print(data.info(), \"\\n\") # * Інформація про дані"
   ]
  },
  {
   "cell_type": "code",
   "execution_count": 4,
   "metadata": {},
   "outputs": [],
   "source": [
    "X = data[['Площа житла', 'К-сть спалень', 'Відстань до центру']]\n",
    "y = data['Ціна житла']\n",
    "\n",
    "from sklearn.model_selection import train_test_split\n",
    "X_train, X_test, y_train, y_test = train_test_split(X, y, test_size=0.2, random_state=42)"
   ]
  },
  {
   "cell_type": "markdown",
   "metadata": {},
   "source": [
    "3. Побудова моделі регресії\n",
    "\n",
    "Використати бібліотеку Python (наприклад, Scikit-Learn) для побудови моделі лінійної регресії.\n",
    "\n",
    "Навчіти модель на навчальних даних, використовуючи ознаки \"Площа житла\", \"Кількість спалень\" та \"Відстань до центру міста\" для прогнозу ціни житла."
   ]
  },
  {
   "cell_type": "code",
   "execution_count": 5,
   "metadata": {},
   "outputs": [],
   "source": [
    "from sklearn.linear_model import LinearRegression\n",
    "\n",
    "linear_reg_model = LinearRegression()\n",
    "linear_reg_model.fit(X_train, y_train)\n",
    "\n",
    "y_pred = linear_reg_model.predict(X_test)"
   ]
  },
  {
   "cell_type": "markdown",
   "metadata": {},
   "source": [
    "4. Оцінка моделі\n",
    "\n",
    "Оцінити якість моделі за допомогою метрик, таких як середньоквадратична помилка (MSE) та коефіцієнт детермінації (R^2)."
   ]
  },
  {
   "cell_type": "code",
   "execution_count": 6,
   "metadata": {},
   "outputs": [
    {
     "name": "stdout",
     "output_type": "stream",
     "text": [
      "MSE: 145.47\n",
      "R-squared: 1.00\n"
     ]
    }
   ],
   "source": [
    "from sklearn.metrics import mean_squared_error, r2_score, accuracy_score, confusion_matrix\n",
    "\n",
    "mse = mean_squared_error(y_test, y_pred)\n",
    "print(f\"MSE: {mse:.2f}\")\n",
    "\n",
    "r2 = r2_score(y_test, y_pred)     \n",
    "print(f'R-squared: {r2:.2f}')  "
   ]
  },
  {
   "cell_type": "markdown",
   "metadata": {},
   "source": [
    "5. Візуалізація результатів\n",
    "\n",
    "Побудувати графік, на якому відображено реальні ціни житла та прогнозовані моделлю ціни для тестового набору.\n",
    "\n",
    "Додати лінію, яка відображає ідеальні результати (реальні ціни житла) для порівняння."
   ]
  },
  {
   "cell_type": "code",
   "execution_count": 7,
   "metadata": {},
   "outputs": [
    {
     "data": {
      "text/plain": [
       "Text(0.5, 1.0, 'Лінійна регресія')"
      ]
     },
     "execution_count": 7,
     "metadata": {},
     "output_type": "execute_result"
    },
    {
     "data": {
      "image/png": "[encoded data removed]",
      "text/plain": [
       "<Figure size 2000x500 with 1 Axes>"
      ]
     },
     "metadata": {},
     "output_type": "display_data"
    }
   ],
   "source": [
    "import matplotlib.pyplot as plt\n",
    "\n",
    "plt.figure(figsize=(20, 5))\n",
    "plt.subplot(131)\n",
    "plt.scatter(y_test, y_pred, color='blue')\n",
    "plt.plot([min(y_test), max(y_test)], [min(y_pred), max(y_pred)], linestyle='--', color='red')\n",
    "plt.xlabel(\"Справжні\")\n",
    "plt.ylabel(\"Прогнозовані\")\n",
    "plt.title(\"Лінійна регресія\")"
   ]
  }
 ],
 "metadata": {
  "kernelspec": {
   "display_name": "Python 3",
   "language": "python",
   "name": "python3"
  },
  "language_info": {
   "codemirror_mode": {
    "name": "ipython",
    "version": 3
   },
   "file_extension": ".py",
   "mimetype": "text/x-python",
   "name": "python",
   "nbconvert_exporter": "python",
   "pygments_lexer": "ipython3",
   "version": "3.9.6"
  }
 },
 "nbformat": 4,
 "nbformat_minor": 2
}
