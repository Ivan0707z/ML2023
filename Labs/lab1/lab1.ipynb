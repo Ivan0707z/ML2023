{
 "cells": [
  {
   "cell_type": "markdown",
   "metadata": {},
   "source": [
    "NumPy"
   ]
  },
  {
   "cell_type": "code",
   "execution_count": 12,
   "metadata": {},
   "outputs": [
    {
     "name": "stdout",
     "output_type": "stream",
     "text": [
      "[ 0  1  2  3  4  5  6  7  8  9 10]\n",
      "\n",
      "\n",
      "[  0  20  40  60  80 100 120 140 160 180 200]\n"
     ]
    }
   ],
   "source": [
    "import numpy as np\n",
    "\n",
    "a1 = np.arange(11)\n",
    "print(a1)\n",
    "print(\"\\n\")\n",
    "my_array = np.arange(0, 201, 20)\n",
    "print(my_array)"
   ]
  },
  {
   "cell_type": "code",
   "execution_count": 15,
   "metadata": {},
   "outputs": [
    {
     "name": "stdout",
     "output_type": "stream",
     "text": [
      "\n",
      " [[6 1 3 7 1]\n",
      " [6 5 6 2 4]\n",
      " [5 6 3 9 4]\n",
      " [6 3 9 6 1]\n",
      " [4 4 1 5 6]]\n",
      "\n",
      " [[1 5 8 5 7]\n",
      " [8 7 1 6 2]\n",
      " [4 4 2 7 7]\n",
      " [7 7 6 1 6]\n",
      " [5 9 2 4 7]]\n",
      "\n",
      " Скалярний добуток arr1 і arr2: \n",
      " [[ 80 107  99  68 114]\n",
      " [104 139  85 120 134]\n",
      " [148 178 114 107 150]\n",
      " [113 138 107 121 154]\n",
      " [105 141  80  80 115]]\n"
     ]
    }
   ],
   "source": [
    "arr1 = np.random.randint(1, 10, (5, 5))\n",
    "print(\"\\n\", arr1)\n",
    "\n",
    "arr2 = np.random.randint(1, 10, (5, 5))\n",
    "print(\"\\n\", arr2)\n",
    "\n",
    "scalar = np.dot(arr1, arr2)\n",
    "print(\"\\n Скалярний добуток arr1 і arr2:\", \"\\n\", scalar)"
   ]
  },
  {
   "cell_type": "markdown",
   "metadata": {},
   "source": [
    "Pandas"
   ]
  },
  {
   "cell_type": "code",
   "execution_count": 16,
   "metadata": {},
   "outputs": [
    {
     "name": "stdout",
     "output_type": "stream",
     "text": [
      "         id    name  age        job\n",
      "0  12456122  Sergey   30    Teacher\n",
      "1  22336565  Dmitro   23      Racer\n",
      "2  32306383   Alina   26  Policeman\n",
      "\n",
      "\n",
      "         id    name  age        job\n",
      "0  12456122  Sergey   30    Teacher\n",
      "1  22336565  Dmitro   23      Racer\n",
      "2  32306383   Alina   26  Policeman\n",
      "\n",
      "\n",
      "         id    name  age        job\n",
      "0  12456122  Sergey   30    Teacher\n",
      "1  22336565  Dmitro   23      Racer\n",
      "2  32306383   Alina   26  Policeman\n"
     ]
    }
   ],
   "source": [
    "import pandas as pd\n",
    "\n",
    "data = [[12456122, 'Sergey', 30, \"Teacher\"],\n",
    "        [22336565, 'Dmitro', 23, \"Racer\"],\n",
    "        [32306383, 'Alina', 26, \"Policeman\"]]\n",
    "\n",
    "columns = ['id', 'name', 'age', 'job']\n",
    "\n",
    "df = pd.DataFrame(data, columns=columns)\n",
    "print(df)\n",
    "print('\\n')\n",
    "\n",
    "\n",
    "data2 = {'id': [12456122, 22336565, 32306383],\n",
    "        'name': ['Sergey', 'Dmitro', 'Alina'],\n",
    "        'age': [30, 23, 26],\n",
    "        'job': ['Teacher', 'Racer', 'Policeman']}\n",
    "\n",
    "df2 = pd.DataFrame(data2)\n",
    "print(df2)\n",
    "print('\\n')\n",
    "\n",
    "data3 = [\n",
    "        {'id': 12456122, 'name': 'Sergey', 'age': 30, 'job': 'Teacher'},\n",
    "        {'id': 22336565, 'name': 'Dmitro', 'age': 23, 'job': 'Racer'},\n",
    "        {'id': 32306383, 'name': 'Alina', 'age': 26, 'job': 'Policeman'}]\n",
    "\n",
    "df3 = pd.DataFrame(data3)\n",
    "print(df3)"
   ]
  },
  {
   "cell_type": "code",
   "execution_count": 22,
   "metadata": {},
   "outputs": [
    {
     "name": "stdout",
     "output_type": "stream",
     "text": [
      "         id    name  age        job\n",
      "0  12456122  Sergey   30    Teacher\n",
      "1  22336565  Dmitro   23      Racer\n",
      "2  32306383   Alina   26  Policeman\n",
      "\n",
      "\n",
      "         id    name  age      job\n",
      "0  12456122  Sergey   30  Teacher\n",
      "1  22336565  Dmitro   23    Racer\n",
      "\n",
      " \n",
      "                 id        age\n",
      "count  3.000000e+00   3.000000\n",
      "mean   2.236636e+07  26.333333\n",
      "std    9.925164e+06   3.511885\n",
      "min    1.245612e+07  23.000000\n",
      "25%    1.739634e+07  24.500000\n",
      "50%    2.233656e+07  26.000000\n",
      "75%    2.732147e+07  28.000000\n",
      "max    3.230638e+07  30.000000\n",
      "\n",
      " \n",
      "0    30\n",
      "1    23\n",
      "2    26\n",
      "Name: age, dtype: int64\n"
     ]
    }
   ],
   "source": [
    "print(df3)\n",
    "print('\\n')\n",
    "\n",
    "print(df3.head(2))\n",
    "\n",
    "print(\"\\n \")\n",
    "print(df3.describe())\n",
    "\n",
    "ages = df3['age']\n",
    "print(\"\\n \")\n",
    "print(ages)"
   ]
  },
  {
   "cell_type": "code",
   "execution_count": 27,
   "metadata": {},
   "outputs": [
    {
     "name": "stdout",
     "output_type": "stream",
     "text": [
      "         id    name  age        job\n",
      "0  12456122  Sergey   30    Teacher\n",
      "1  22336565  Dmitro   23      Racer\n",
      "2  32306383   Alina   26  Policeman\n",
      "\n",
      "\n",
      "         id    name  age        job\n",
      "1  22336565  Dmitro   23      Racer\n",
      "2  32306383   Alina   26  Policeman\n",
      "\n",
      "\n",
      "\n",
      "\n",
      "     name  age      work\n",
      "a     Dai   50  Operator\n",
      "b  Meniya   29  Musician\n",
      "c    Dave   38    Singer\n",
      "\n",
      "\n",
      "Робота за індексом 'с':  Singer\n",
      "Робота за індексом 'a':  Operator\n",
      "Ім`я за індексом 'b':  Meniya\n"
     ]
    }
   ],
   "source": [
    "print(df3)\n",
    "print('\\n')\n",
    "\n",
    "young_people = df3[df3['age'] < 30]\n",
    "print(young_people)\n",
    "print('\\n')\n",
    "\n",
    "row_3 = df3.iloc[2]\n",
    "\n",
    "age_of_row_4 = df3.iloc[2, df3.columns.get_loc('age')]\n",
    "\n",
    "print('\\n')\n",
    "data4 = {'name': ['Dai', 'Meniya', 'Dave'],\n",
    "        'age': [50, 29, 38],\n",
    "        'work': ['Operator', 'Musician', 'Singer']}\n",
    "\n",
    "df4 = pd.DataFrame(data4, index=['a', 'b', 'c'])\n",
    "print(df4)\n",
    "print('\\n')\n",
    "\n",
    "row_b = df4.loc['b']\n",
    "\n",
    "work_of_row_c = df4.loc['c', 'work']\n",
    "work_of_row_a = df4.loc['a', 'work']\n",
    "name_of_row_b = df4.loc['b', 'name']\n",
    "\n",
    "print(\"Робота за індексом 'с': \", work_of_row_c)\n",
    "print(\"Робота за індексом 'a': \", work_of_row_a)\n",
    "print(\"Ім`я за індексом 'b': \", name_of_row_b)\n"
   ]
  },
  {
   "cell_type": "markdown",
   "metadata": {},
   "source": [
    "Matplotlib"
   ]
  },
  {
   "cell_type": "code",
   "execution_count": 36,
   "metadata": {},
   "outputs": [
    {
     "data": {
      "image/png": "[encoded data removed]",
      "text/plain": [
       "<Figure size 640x480 with 1 Axes>"
      ]
     },
     "metadata": {},
     "output_type": "display_data"
    },
    {
     "name": "stdout",
     "output_type": "stream",
     "text": [
      "\n",
      "\n",
      "Точна лінійна функція(червона) та Прогноз Y_hat - наклалися\n"
     ]
    }
   ],
   "source": [
    "import numpy as np\n",
    "import pandas as pd\n",
    "import matplotlib.pyplot as plt\n",
    "from sklearn.metrics import mean_absolute_error, mean_squared_error\n",
    "\n",
    "slope = -2\n",
    "intercept = 4\n",
    "X = np.linspace(0, 20, 40)\n",
    "\n",
    "errors = np.random.normal(0, 2, len(X))\n",
    "\n",
    "Y_true = slope * X + intercept\n",
    "Y = Y_true + errors\n",
    "\n",
    "Y_hat = slope * X + intercept\n",
    "\n",
    "mae = mean_absolute_error(Y_true, Y_hat)\n",
    "mse = mean_squared_error(Y_true, Y_hat)\n",
    "\n",
    "df_results = pd.DataFrame({'X': X, 'Y': Y, 'Y_hat': Y_hat, 'MAE': mae, 'MSE': mse})\n",
    "\n",
    "df_results.to_csv('linear_function_results.csv', index=False)\n",
    "\n",
    "plt.scatter(X, Y, label='Дані з помилками', color='#3759CA')\n",
    "plt.plot(X, Y_true, label='Точна лінійна функція', linestyle='--', color='#CA3737')\n",
    "plt.plot(X, Y_hat, label='Прогноз Y_hat', linestyle='--', color='#ffd900')\n",
    "plt.title('Лінійна функція з помилками та прогноз Y_hat')\n",
    "plt.xlabel('X')\n",
    "plt.ylabel('Y')\n",
    "plt.legend()\n",
    "plt.show()\n",
    "\n",
    "print(\"\\n\")\n",
    "print(\"Точна лінійна функція(червона) та Прогноз Y_hat - наклалися\")"
   ]
  }
 ],
 "metadata": {
  "kernelspec": {
   "display_name": "Python 3",
   "language": "python",
   "name": "python3"
  },
  "language_info": {
   "codemirror_mode": {
    "name": "ipython",
    "version": 3
   },
   "file_extension": ".py",
   "mimetype": "text/x-python",
   "name": "python",
   "nbconvert_exporter": "python",
   "pygments_lexer": "ipython3",
   "version": "3.9.6"
  },
  "orig_nbformat": 4
 },
 "nbformat": 4,
 "nbformat_minor": 2
}
